{
 "cells": [
  {
   "cell_type": "code",
   "execution_count": 1,
   "metadata": {
    "scrolled": true
   },
   "outputs": [
    {
     "name": "stdout",
     "output_type": "stream",
     "text": [
      "Collecting speechrecognition\n",
      "  Downloading SpeechRecognition-3.10.1-py2.py3-none-any.whl.metadata (28 kB)\n",
      "Requirement already satisfied: requests>=2.26.0 in c:\\installedutilities\\anaconda\\lib\\site-packages (from speechrecognition) (2.28.1)\n",
      "Requirement already satisfied: typing-extensions in c:\\installedutilities\\anaconda\\lib\\site-packages (from speechrecognition) (4.4.0)\n",
      "Requirement already satisfied: charset-normalizer<3,>=2 in c:\\installedutilities\\anaconda\\lib\\site-packages (from requests>=2.26.0->speechrecognition) (2.0.4)\n",
      "Requirement already satisfied: idna<4,>=2.5 in c:\\installedutilities\\anaconda\\lib\\site-packages (from requests>=2.26.0->speechrecognition) (3.3)\n",
      "Requirement already satisfied: urllib3<1.27,>=1.21.1 in c:\\installedutilities\\anaconda\\lib\\site-packages (from requests>=2.26.0->speechrecognition) (1.26.11)\n",
      "Requirement already satisfied: certifi>=2017.4.17 in c:\\installedutilities\\anaconda\\lib\\site-packages (from requests>=2.26.0->speechrecognition) (2022.9.14)\n",
      "Downloading SpeechRecognition-3.10.1-py2.py3-none-any.whl (32.8 MB)\n",
      "   ---------------------------------------- 32.8/32.8 MB 13.6 MB/s eta 0:00:00\n",
      "Installing collected packages: speechrecognition\n",
      "Successfully installed speechrecognition-3.10.1\n",
      "Collecting pyaudio\n",
      "  Downloading PyAudio-0.2.14-cp39-cp39-win_amd64.whl.metadata (2.7 kB)\n",
      "Downloading PyAudio-0.2.14-cp39-cp39-win_amd64.whl (164 kB)\n",
      "   ---------------------------------------- 164.1/164.1 kB 2.4 MB/s eta 0:00:00\n",
      "Installing collected packages: pyaudio\n",
      "Successfully installed pyaudio-0.2.14\n",
      "Collecting pyttsx3\n",
      "  Downloading pyttsx3-2.90-py3-none-any.whl (39 kB)\n",
      "Requirement already satisfied: comtypes in c:\\installedutilities\\anaconda\\lib\\site-packages (from pyttsx3) (1.1.10)\n",
      "Collecting pypiwin32 (from pyttsx3)\n",
      "  Downloading pypiwin32-223-py3-none-any.whl (1.7 kB)\n",
      "Requirement already satisfied: pywin32 in c:\\installedutilities\\anaconda\\lib\\site-packages (from pyttsx3) (302)\n",
      "Installing collected packages: pypiwin32, pyttsx3\n",
      "Successfully installed pypiwin32-223 pyttsx3-2.90\n",
      "Collecting pocketsphinx\n",
      "  Downloading pocketsphinx-5.0.3.tar.gz (34.1 MB)\n",
      "     --------------------------------------- 34.1/34.1 MB 27.3 MB/s eta 0:00:00\n",
      "  Installing build dependencies: started\n",
      "  Installing build dependencies: finished with status 'done'\n",
      "  Getting requirements to build wheel: started\n",
      "  Getting requirements to build wheel: finished with status 'done'\n",
      "  Installing backend dependencies: started\n",
      "  Installing backend dependencies: finished with status 'done'\n",
      "  Preparing metadata (pyproject.toml): started\n",
      "  Preparing metadata (pyproject.toml): finished with status 'done'\n",
      "Requirement already satisfied: sounddevice in c:\\installedutilities\\anaconda\\lib\\site-packages (from pocketsphinx) (0.4.6)\n",
      "Requirement already satisfied: CFFI>=1.0 in c:\\installedutilities\\anaconda\\lib\\site-packages (from sounddevice->pocketsphinx) (1.15.1)\n",
      "Requirement already satisfied: pycparser in c:\\installedutilities\\anaconda\\lib\\site-packages (from CFFI>=1.0->sounddevice->pocketsphinx) (2.21)\n",
      "Building wheels for collected packages: pocketsphinx\n",
      "  Building wheel for pocketsphinx (pyproject.toml): started\n",
      "  Building wheel for pocketsphinx (pyproject.toml): finished with status 'done'\n",
      "  Created wheel for pocketsphinx: filename=pocketsphinx-5.0.3-cp39-cp39-win_amd64.whl size=29053124 sha256=cf43ba230ee95a298b02ed75b7efa7893a15e4101ecc8d9b5d65086492eb6733\n",
      "  Stored in directory: c:\\users\\coldf\\appdata\\local\\pip\\cache\\wheels\\63\\2e\\68\\74d27530bb89b696aed5ddf017d2293c90744253d5692b4f36\n",
      "Successfully built pocketsphinx\n",
      "Installing collected packages: pocketsphinx\n",
      "Successfully installed pocketsphinx-5.0.3\n"
     ]
    }
   ],
   "source": [
    "!pip3 install speechrecognition\n",
    "!pip3 install pyaudio\n",
    "!pip3 install pyttsx3\n",
    "!pip3 install pocketsphinx"
   ]
  },
  {
   "cell_type": "code",
   "execution_count": 2,
   "metadata": {},
   "outputs": [],
   "source": [
    "import speech_recognition as sr\n",
    "import pyttsx3 \n"
   ]
  },
  {
   "cell_type": "code",
   "execution_count": 3,
   "metadata": {},
   "outputs": [],
   "source": [
    "r = sr.Recognizer() \n",
    " \n",
    "def SpeakText(command, rate):\n",
    "    engine = pyttsx3.init()\n",
    "\n",
    "    # setting how fast it picks up audio\n",
    "    engine.setProperty('rate', rate)\n",
    "\n",
    "    engine.say(command) \n",
    "    engine.runAndWait()"
   ]
  },
  {
   "cell_type": "code",
   "execution_count": null,
   "metadata": {},
   "outputs": [],
   "source": [
    "while True:\n",
    "    try:\n",
    "        with sr.Microphone() as source2:\n",
    "            r.energy_threshold = 15000\n",
    "            r.adjust_for_ambient_noise(source2, duration=0.1)\n",
    "            audio2 = r.listen(source2)  # Set a shorter timeout\n",
    "\n",
    "            MyText = r.recognize_sphinx(audio2)\n",
    "            MyText = MyText.lower()\n",
    "\n",
    "            print(\"Did you say:\", MyText)\n",
    "            SpeakText(MyText, rate=2000)  # Increase the speech rate if needed\n",
    "\n",
    "    except sr.RequestError as e:\n",
    "        print(\"Could not request results; {0}\".format(e))\n",
    "    except sr.WaitTimeoutError as e:\n",
    "        print(\"Listening timed out while waiting for phrase to start\")\n",
    "    except sr.UnknownValueError:\n",
    "        continue\n"
   ]
  },
  {
   "cell_type": "code",
   "execution_count": null,
   "metadata": {},
   "outputs": [],
   "source": []
  },
  {
   "cell_type": "code",
   "execution_count": null,
   "metadata": {},
   "outputs": [],
   "source": []
  },
  {
   "cell_type": "code",
   "execution_count": null,
   "metadata": {},
   "outputs": [],
   "source": []
  }
 ],
 "metadata": {
  "kernelspec": {
   "display_name": "Python 3 (ipykernel)",
   "language": "python",
   "name": "python3"
  },
  "language_info": {
   "codemirror_mode": {
    "name": "ipython",
    "version": 3
   },
   "file_extension": ".py",
   "mimetype": "text/x-python",
   "name": "python",
   "nbconvert_exporter": "python",
   "pygments_lexer": "ipython3",
   "version": "3.9.13"
  }
 },
 "nbformat": 4,
 "nbformat_minor": 4
}

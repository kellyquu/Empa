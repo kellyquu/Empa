{
 "cells": [
  {
   "cell_type": "code",
   "execution_count": 1,
   "metadata": {
    "scrolled": true
   },
   "outputs": [
    {
     "name": "stdout",
     "output_type": "stream",
     "text": [
      "Requirement already satisfied: speechrecognition in c:\\users\\mayal\\appdata\\local\\packages\\pythonsoftwarefoundation.python.3.10_qbz5n2kfra8p0\\localcache\\local-packages\\python310\\site-packages (3.10.1)\n",
      "Requirement already satisfied: requests>=2.26.0 in c:\\users\\mayal\\appdata\\local\\packages\\pythonsoftwarefoundation.python.3.10_qbz5n2kfra8p0\\localcache\\local-packages\\python310\\site-packages (from speechrecognition) (2.31.0)\n",
      "Requirement already satisfied: typing-extensions in c:\\users\\mayal\\appdata\\local\\packages\\pythonsoftwarefoundation.python.3.10_qbz5n2kfra8p0\\localcache\\local-packages\\python310\\site-packages (from speechrecognition) (4.9.0)\n",
      "Requirement already satisfied: charset-normalizer<4,>=2 in c:\\users\\mayal\\appdata\\local\\packages\\pythonsoftwarefoundation.python.3.10_qbz5n2kfra8p0\\localcache\\local-packages\\python310\\site-packages (from requests>=2.26.0->speechrecognition) (3.1.0)\n",
      "Requirement already satisfied: idna<4,>=2.5 in c:\\users\\mayal\\appdata\\local\\packages\\pythonsoftwarefoundation.python.3.10_qbz5n2kfra8p0\\localcache\\local-packages\\python310\\site-packages (from requests>=2.26.0->speechrecognition) (3.4)\n",
      "Requirement already satisfied: certifi>=2017.4.17 in c:\\users\\mayal\\appdata\\local\\packages\\pythonsoftwarefoundation.python.3.10_qbz5n2kfra8p0\\localcache\\local-packages\\python310\\site-packages (from requests>=2.26.0->speechrecognition) (2022.12.7)\n",
      "Requirement already satisfied: urllib3<3,>=1.21.1 in c:\\users\\mayal\\appdata\\local\\packages\\pythonsoftwarefoundation.python.3.10_qbz5n2kfra8p0\\localcache\\local-packages\\python310\\site-packages (from requests>=2.26.0->speechrecognition) (1.26.13)\n"
     ]
    },
    {
     "name": "stderr",
     "output_type": "stream",
     "text": [
      "\n",
      "[notice] A new release of pip is available: 23.0.1 -> 23.3.2\n",
      "[notice] To update, run: C:\\Users\\mayal\\AppData\\Local\\Microsoft\\WindowsApps\\PythonSoftwareFoundation.Python.3.10_qbz5n2kfra8p0\\python.exe -m pip install --upgrade pip\n"
     ]
    },
    {
     "name": "stdout",
     "output_type": "stream",
     "text": [
      "Requirement already satisfied: pyaudio in c:\\users\\mayal\\appdata\\local\\packages\\pythonsoftwarefoundation.python.3.10_qbz5n2kfra8p0\\localcache\\local-packages\\python310\\site-packages (0.2.14)\n"
     ]
    },
    {
     "name": "stderr",
     "output_type": "stream",
     "text": [
      "\n",
      "[notice] A new release of pip is available: 23.0.1 -> 23.3.2\n",
      "[notice] To update, run: C:\\Users\\mayal\\AppData\\Local\\Microsoft\\WindowsApps\\PythonSoftwareFoundation.Python.3.10_qbz5n2kfra8p0\\python.exe -m pip install --upgrade pip\n"
     ]
    },
    {
     "name": "stdout",
     "output_type": "stream",
     "text": [
      "Requirement already satisfied: pyttsx3 in c:\\users\\mayal\\appdata\\local\\packages\\pythonsoftwarefoundation.python.3.10_qbz5n2kfra8p0\\localcache\\local-packages\\python310\\site-packages (2.90)\n",
      "Requirement already satisfied: comtypes in c:\\users\\mayal\\appdata\\local\\packages\\pythonsoftwarefoundation.python.3.10_qbz5n2kfra8p0\\localcache\\local-packages\\python310\\site-packages (from pyttsx3) (1.2.1)\n",
      "Requirement already satisfied: pywin32 in c:\\users\\mayal\\appdata\\local\\packages\\pythonsoftwarefoundation.python.3.10_qbz5n2kfra8p0\\localcache\\local-packages\\python310\\site-packages (from pyttsx3) (306)\n",
      "Requirement already satisfied: pypiwin32 in c:\\users\\mayal\\appdata\\local\\packages\\pythonsoftwarefoundation.python.3.10_qbz5n2kfra8p0\\localcache\\local-packages\\python310\\site-packages (from pyttsx3) (223)\n"
     ]
    },
    {
     "name": "stderr",
     "output_type": "stream",
     "text": [
      "\n",
      "[notice] A new release of pip is available: 23.0.1 -> 23.3.2\n",
      "[notice] To update, run: C:\\Users\\mayal\\AppData\\Local\\Microsoft\\WindowsApps\\PythonSoftwareFoundation.Python.3.10_qbz5n2kfra8p0\\python.exe -m pip install --upgrade pip\n"
     ]
    },
    {
     "name": "stdout",
     "output_type": "stream",
     "text": [
      "Collecting pocketsphinx\n",
      "  Downloading pocketsphinx-5.0.3-cp310-cp310-win_amd64.whl (29.1 MB)\n",
      "     ---------------------------------------- 0.0/29.1 MB ? eta -:--:--\n",
      "     ---------------------------------------- 0.2/29.1 MB 5.9 MB/s eta 0:00:05\n",
      "     - -------------------------------------- 1.1/29.1 MB 14.6 MB/s eta 0:00:02\n",
      "     --- ------------------------------------ 2.2/29.1 MB 15.8 MB/s eta 0:00:02\n",
      "     ---- ----------------------------------- 3.4/29.1 MB 19.9 MB/s eta 0:00:02\n",
      "     ------ --------------------------------- 4.8/29.1 MB 21.8 MB/s eta 0:00:02\n",
      "     ------- -------------------------------- 5.4/29.1 MB 19.3 MB/s eta 0:00:02\n",
      "     -------- ------------------------------- 6.5/29.1 MB 20.6 MB/s eta 0:00:02\n",
      "     ---------- ----------------------------- 7.7/29.1 MB 21.3 MB/s eta 0:00:02\n",
      "     ------------ --------------------------- 8.7/29.1 MB 21.5 MB/s eta 0:00:01\n",
      "     ------------- -------------------------- 9.5/29.1 MB 20.9 MB/s eta 0:00:01\n",
      "     ------------- ------------------------- 10.0/29.1 MB 20.7 MB/s eta 0:00:01\n",
      "     ------------- ------------------------- 10.0/29.1 MB 20.7 MB/s eta 0:00:01\n",
      "     ------------- ------------------------- 10.0/29.1 MB 20.7 MB/s eta 0:00:01\n",
      "     ------------- ------------------------- 10.0/29.1 MB 20.7 MB/s eta 0:00:01\n",
      "     ------------- ------------------------- 10.2/29.1 MB 15.2 MB/s eta 0:00:02\n",
      "     ------------- ------------------------- 10.4/29.1 MB 14.5 MB/s eta 0:00:02\n",
      "     -------------- ------------------------ 11.2/29.1 MB 14.6 MB/s eta 0:00:02\n",
      "     --------------- ----------------------- 11.8/29.1 MB 14.2 MB/s eta 0:00:02\n",
      "     ---------------- ---------------------- 12.0/29.1 MB 13.6 MB/s eta 0:00:02\n",
      "     ---------------- ---------------------- 12.0/29.1 MB 13.6 MB/s eta 0:00:02\n",
      "     ----------------- --------------------- 13.1/29.1 MB 12.6 MB/s eta 0:00:02\n",
      "     ------------------ -------------------- 13.8/29.1 MB 12.6 MB/s eta 0:00:02\n",
      "     ------------------- ------------------- 14.8/29.1 MB 12.1 MB/s eta 0:00:02\n",
      "     --------------------- ----------------- 16.0/29.1 MB 12.3 MB/s eta 0:00:02\n",
      "     ---------------------- ---------------- 16.6/29.1 MB 12.1 MB/s eta 0:00:02\n",
      "     ------------------------ -------------- 18.0/29.1 MB 12.4 MB/s eta 0:00:01\n",
      "     ------------------------- ------------- 18.7/29.1 MB 12.1 MB/s eta 0:00:01\n",
      "     ------------------------- ------------- 19.4/29.1 MB 11.9 MB/s eta 0:00:01\n",
      "     --------------------------- ----------- 20.7/29.1 MB 17.2 MB/s eta 0:00:01\n",
      "     ----------------------------- --------- 21.9/29.1 MB 17.7 MB/s eta 0:00:01\n",
      "     ------------------------------ -------- 22.4/29.1 MB 20.5 MB/s eta 0:00:01\n",
      "     ------------------------------- ------- 23.2/29.1 MB 19.2 MB/s eta 0:00:01\n",
      "     ------------------------------- ------- 23.8/29.1 MB 19.3 MB/s eta 0:00:01\n",
      "     --------------------------------- ----- 24.6/29.1 MB 19.3 MB/s eta 0:00:01\n",
      "     ---------------------------------- ---- 25.9/29.1 MB 19.3 MB/s eta 0:00:01\n",
      "     ----------------------------------- --- 26.5/29.1 MB 19.3 MB/s eta 0:00:01\n",
      "     ------------------------------------ -- 27.5/29.1 MB 18.7 MB/s eta 0:00:01\n",
      "     ------------------------------------- - 28.0/29.1 MB 18.2 MB/s eta 0:00:01\n",
      "     --------------------------------------  29.1/29.1 MB 18.7 MB/s eta 0:00:01\n",
      "     --------------------------------------  29.1/29.1 MB 18.7 MB/s eta 0:00:01\n",
      "     --------------------------------------  29.1/29.1 MB 18.7 MB/s eta 0:00:01\n",
      "     --------------------------------------- 29.1/29.1 MB 10.9 MB/s eta 0:00:00\n",
      "Collecting sounddevice\n",
      "  Downloading sounddevice-0.4.6-py3-none-win_amd64.whl (199 kB)\n",
      "     ---------------------------------------- 0.0/199.7 kB ? eta -:--:--\n",
      "     ---------------------------------------- 199.7/199.7 kB ? eta 0:00:00\n",
      "Requirement already satisfied: CFFI>=1.0 in c:\\users\\mayal\\appdata\\local\\packages\\pythonsoftwarefoundation.python.3.10_qbz5n2kfra8p0\\localcache\\local-packages\\python310\\site-packages (from sounddevice->pocketsphinx) (1.15.0)\n",
      "Requirement already satisfied: pycparser in c:\\users\\mayal\\appdata\\local\\packages\\pythonsoftwarefoundation.python.3.10_qbz5n2kfra8p0\\localcache\\local-packages\\python310\\site-packages (from CFFI>=1.0->sounddevice->pocketsphinx) (2.21)\n",
      "Installing collected packages: sounddevice, pocketsphinx\n",
      "Successfully installed pocketsphinx-5.0.3 sounddevice-0.4.6\n"
     ]
    },
    {
     "name": "stderr",
     "output_type": "stream",
     "text": [
      "\n",
      "[notice] A new release of pip is available: 23.0.1 -> 23.3.2\n",
      "[notice] To update, run: C:\\Users\\mayal\\AppData\\Local\\Microsoft\\WindowsApps\\PythonSoftwareFoundation.Python.3.10_qbz5n2kfra8p0\\python.exe -m pip install --upgrade pip\n"
     ]
    }
   ],
   "source": [
    "!pip3 install speechrecognition\n",
    "!pip3 install pyaudio\n",
    "!pip3 install pyttsx3\n",
    "!pip3 install pocketsphinx"
   ]
  },
  {
   "cell_type": "code",
   "execution_count": 2,
   "metadata": {},
   "outputs": [],
   "source": [
    "import speech_recognition as sr\n",
    "import pyttsx3 \n"
   ]
  },
  {
   "cell_type": "code",
   "execution_count": 3,
   "metadata": {},
   "outputs": [],
   "source": [
    "r = sr.Recognizer() \n",
    " \n",
    "def SpeakText(command, rate):\n",
    "    engine = pyttsx3.init()\n",
    "\n",
    "    # setting how fast it picks up audio\n",
    "    engine.setProperty('rate', rate)\n",
    "\n",
    "    engine.say(command) \n",
    "    engine.runAndWait()"
   ]
  },
  {
   "cell_type": "code",
   "execution_count": null,
   "metadata": {},
   "outputs": [
    {
     "name": "stdout",
     "output_type": "stream",
     "text": [
      "Did you say: the test test test\n",
      "Did you say: dogs in the\n",
      "Did you say: o. k. to flip that\n"
     ]
    }
   ],
   "source": [
    "while True:\n",
    "    try:\n",
    "        with sr.Microphone() as source2:\n",
    "            r.energy_threshold = 15000\n",
    "            r.adjust_for_ambient_noise(source2, duration=0.1)\n",
    "            audio2 = r.listen(source2)  # Set a shorter timeout\n",
    "\n",
    "            MyText = r.recognize_sphinx(audio2)\n",
    "            MyText = MyText.lower()\n",
    "\n",
    "            print(\"Did you say:\", MyText)\n",
    "            SpeakText(MyText, rate=2000)  # Increase the speech rate if needed\n",
    "\n",
    "    except sr.RequestError as e:\n",
    "        print(\"Could not request results; {0}\".format(e))\n",
    "    except sr.WaitTimeoutError as e:\n",
    "        print(\"Listening timed out while waiting for phrase to start\")\n",
    "    except sr.UnknownValueError:\n",
    "        continue\n"
   ]
  },
  {
   "cell_type": "code",
   "execution_count": null,
   "metadata": {},
   "outputs": [],
   "source": []
  },
  {
   "cell_type": "code",
   "execution_count": null,
   "metadata": {},
   "outputs": [],
   "source": []
  },
  {
   "cell_type": "code",
   "execution_count": null,
   "metadata": {},
   "outputs": [],
   "source": []
  }
 ],
 "metadata": {
  "kernelspec": {
   "display_name": "Python 3 (ipykernel)",
   "language": "python",
   "name": "python3"
  },
  "language_info": {
   "codemirror_mode": {
    "name": "ipython",
    "version": 3
   },
   "file_extension": ".py",
   "mimetype": "text/x-python",
   "name": "python",
   "nbconvert_exporter": "python",
   "pygments_lexer": "ipython3",
   "version": "3.10.11"
  }
 },
 "nbformat": 4,
 "nbformat_minor": 4
}
